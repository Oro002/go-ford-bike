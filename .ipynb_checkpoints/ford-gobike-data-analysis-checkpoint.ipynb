{
 "cells": [
  {
   "cell_type": "markdown",
   "metadata": {},
   "source": [
    "# Ford Gobike Data Exploration\n",
    "\n",
    "## Preliminary Wrangling\n",
    "\n",
    "This document explores a dataset containing the trip data of the fordgo bike."
   ]
  },
  {
   "cell_type": "code",
   "execution_count": 1,
   "metadata": {
    "execution": {
     "iopub.execute_input": "2022-08-16T04:44:55.333290Z",
     "iopub.status.busy": "2022-08-16T04:44:55.332632Z",
     "iopub.status.idle": "2022-08-16T04:44:56.122068Z",
     "shell.execute_reply": "2022-08-16T04:44:56.121121Z",
     "shell.execute_reply.started": "2022-08-16T04:44:55.333235Z"
    }
   },
   "outputs": [],
   "source": [
    "import pandas as pd\n",
    "import numpy as np\n",
    "import seaborn as sb\n",
    "import matplotlib.pyplot as plt\n",
    "\n",
    "%matplotlib inline"
   ]
  },
  {
   "cell_type": "code",
   "execution_count": 2,
   "metadata": {
    "execution": {
     "iopub.execute_input": "2022-08-16T04:44:56.123645Z",
     "iopub.status.busy": "2022-08-16T04:44:56.123213Z",
     "iopub.status.idle": "2022-08-16T04:44:57.476812Z",
     "shell.execute_reply": "2022-08-16T04:44:57.476071Z",
     "shell.execute_reply.started": "2022-08-16T04:44:56.123586Z"
    }
   },
   "outputs": [
    {
     "ename": "FileNotFoundError",
     "evalue": "[Errno 2] No such file or directory: '../input/201902-fordgobike-tripdata.csv'",
     "output_type": "error",
     "traceback": [
      "\u001b[1;31m---------------------------------------------------------------------------\u001b[0m",
      "\u001b[1;31mFileNotFoundError\u001b[0m                         Traceback (most recent call last)",
      "\u001b[1;32m~\\AppData\\Local\\Temp\\ipykernel_2412\\3563185586.py\u001b[0m in \u001b[0;36m<module>\u001b[1;34m\u001b[0m\n\u001b[1;32m----> 1\u001b[1;33m \u001b[0mdf\u001b[0m \u001b[1;33m=\u001b[0m \u001b[0mpd\u001b[0m\u001b[1;33m.\u001b[0m\u001b[0mread_csv\u001b[0m\u001b[1;33m(\u001b[0m\u001b[1;34m'../input/201902-fordgobike-tripdata.csv'\u001b[0m\u001b[1;33m)\u001b[0m\u001b[1;33m\u001b[0m\u001b[1;33m\u001b[0m\u001b[0m\n\u001b[0m\u001b[0;32m      2\u001b[0m \u001b[0mdf\u001b[0m\u001b[1;33m.\u001b[0m\u001b[0mhead\u001b[0m\u001b[1;33m(\u001b[0m\u001b[1;33m)\u001b[0m\u001b[1;33m\u001b[0m\u001b[1;33m\u001b[0m\u001b[0m\n",
      "\u001b[1;32m~\\anaconda3\\lib\\site-packages\\pandas\\util\\_decorators.py\u001b[0m in \u001b[0;36mwrapper\u001b[1;34m(*args, **kwargs)\u001b[0m\n\u001b[0;32m    309\u001b[0m                     \u001b[0mstacklevel\u001b[0m\u001b[1;33m=\u001b[0m\u001b[0mstacklevel\u001b[0m\u001b[1;33m,\u001b[0m\u001b[1;33m\u001b[0m\u001b[1;33m\u001b[0m\u001b[0m\n\u001b[0;32m    310\u001b[0m                 )\n\u001b[1;32m--> 311\u001b[1;33m             \u001b[1;32mreturn\u001b[0m \u001b[0mfunc\u001b[0m\u001b[1;33m(\u001b[0m\u001b[1;33m*\u001b[0m\u001b[0margs\u001b[0m\u001b[1;33m,\u001b[0m \u001b[1;33m**\u001b[0m\u001b[0mkwargs\u001b[0m\u001b[1;33m)\u001b[0m\u001b[1;33m\u001b[0m\u001b[1;33m\u001b[0m\u001b[0m\n\u001b[0m\u001b[0;32m    312\u001b[0m \u001b[1;33m\u001b[0m\u001b[0m\n\u001b[0;32m    313\u001b[0m         \u001b[1;32mreturn\u001b[0m \u001b[0mwrapper\u001b[0m\u001b[1;33m\u001b[0m\u001b[1;33m\u001b[0m\u001b[0m\n",
      "\u001b[1;32m~\\anaconda3\\lib\\site-packages\\pandas\\io\\parsers\\readers.py\u001b[0m in \u001b[0;36mread_csv\u001b[1;34m(filepath_or_buffer, sep, delimiter, header, names, index_col, usecols, squeeze, prefix, mangle_dupe_cols, dtype, engine, converters, true_values, false_values, skipinitialspace, skiprows, skipfooter, nrows, na_values, keep_default_na, na_filter, verbose, skip_blank_lines, parse_dates, infer_datetime_format, keep_date_col, date_parser, dayfirst, cache_dates, iterator, chunksize, compression, thousands, decimal, lineterminator, quotechar, quoting, doublequote, escapechar, comment, encoding, encoding_errors, dialect, error_bad_lines, warn_bad_lines, on_bad_lines, delim_whitespace, low_memory, memory_map, float_precision, storage_options)\u001b[0m\n\u001b[0;32m    678\u001b[0m     \u001b[0mkwds\u001b[0m\u001b[1;33m.\u001b[0m\u001b[0mupdate\u001b[0m\u001b[1;33m(\u001b[0m\u001b[0mkwds_defaults\u001b[0m\u001b[1;33m)\u001b[0m\u001b[1;33m\u001b[0m\u001b[1;33m\u001b[0m\u001b[0m\n\u001b[0;32m    679\u001b[0m \u001b[1;33m\u001b[0m\u001b[0m\n\u001b[1;32m--> 680\u001b[1;33m     \u001b[1;32mreturn\u001b[0m \u001b[0m_read\u001b[0m\u001b[1;33m(\u001b[0m\u001b[0mfilepath_or_buffer\u001b[0m\u001b[1;33m,\u001b[0m \u001b[0mkwds\u001b[0m\u001b[1;33m)\u001b[0m\u001b[1;33m\u001b[0m\u001b[1;33m\u001b[0m\u001b[0m\n\u001b[0m\u001b[0;32m    681\u001b[0m \u001b[1;33m\u001b[0m\u001b[0m\n\u001b[0;32m    682\u001b[0m \u001b[1;33m\u001b[0m\u001b[0m\n",
      "\u001b[1;32m~\\anaconda3\\lib\\site-packages\\pandas\\io\\parsers\\readers.py\u001b[0m in \u001b[0;36m_read\u001b[1;34m(filepath_or_buffer, kwds)\u001b[0m\n\u001b[0;32m    573\u001b[0m \u001b[1;33m\u001b[0m\u001b[0m\n\u001b[0;32m    574\u001b[0m     \u001b[1;31m# Create the parser.\u001b[0m\u001b[1;33m\u001b[0m\u001b[1;33m\u001b[0m\u001b[0m\n\u001b[1;32m--> 575\u001b[1;33m     \u001b[0mparser\u001b[0m \u001b[1;33m=\u001b[0m \u001b[0mTextFileReader\u001b[0m\u001b[1;33m(\u001b[0m\u001b[0mfilepath_or_buffer\u001b[0m\u001b[1;33m,\u001b[0m \u001b[1;33m**\u001b[0m\u001b[0mkwds\u001b[0m\u001b[1;33m)\u001b[0m\u001b[1;33m\u001b[0m\u001b[1;33m\u001b[0m\u001b[0m\n\u001b[0m\u001b[0;32m    576\u001b[0m \u001b[1;33m\u001b[0m\u001b[0m\n\u001b[0;32m    577\u001b[0m     \u001b[1;32mif\u001b[0m \u001b[0mchunksize\u001b[0m \u001b[1;32mor\u001b[0m \u001b[0miterator\u001b[0m\u001b[1;33m:\u001b[0m\u001b[1;33m\u001b[0m\u001b[1;33m\u001b[0m\u001b[0m\n",
      "\u001b[1;32m~\\anaconda3\\lib\\site-packages\\pandas\\io\\parsers\\readers.py\u001b[0m in \u001b[0;36m__init__\u001b[1;34m(self, f, engine, **kwds)\u001b[0m\n\u001b[0;32m    932\u001b[0m \u001b[1;33m\u001b[0m\u001b[0m\n\u001b[0;32m    933\u001b[0m         \u001b[0mself\u001b[0m\u001b[1;33m.\u001b[0m\u001b[0mhandles\u001b[0m\u001b[1;33m:\u001b[0m \u001b[0mIOHandles\u001b[0m \u001b[1;33m|\u001b[0m \u001b[1;32mNone\u001b[0m \u001b[1;33m=\u001b[0m \u001b[1;32mNone\u001b[0m\u001b[1;33m\u001b[0m\u001b[1;33m\u001b[0m\u001b[0m\n\u001b[1;32m--> 934\u001b[1;33m         \u001b[0mself\u001b[0m\u001b[1;33m.\u001b[0m\u001b[0m_engine\u001b[0m \u001b[1;33m=\u001b[0m \u001b[0mself\u001b[0m\u001b[1;33m.\u001b[0m\u001b[0m_make_engine\u001b[0m\u001b[1;33m(\u001b[0m\u001b[0mf\u001b[0m\u001b[1;33m,\u001b[0m \u001b[0mself\u001b[0m\u001b[1;33m.\u001b[0m\u001b[0mengine\u001b[0m\u001b[1;33m)\u001b[0m\u001b[1;33m\u001b[0m\u001b[1;33m\u001b[0m\u001b[0m\n\u001b[0m\u001b[0;32m    935\u001b[0m \u001b[1;33m\u001b[0m\u001b[0m\n\u001b[0;32m    936\u001b[0m     \u001b[1;32mdef\u001b[0m \u001b[0mclose\u001b[0m\u001b[1;33m(\u001b[0m\u001b[0mself\u001b[0m\u001b[1;33m)\u001b[0m\u001b[1;33m:\u001b[0m\u001b[1;33m\u001b[0m\u001b[1;33m\u001b[0m\u001b[0m\n",
      "\u001b[1;32m~\\anaconda3\\lib\\site-packages\\pandas\\io\\parsers\\readers.py\u001b[0m in \u001b[0;36m_make_engine\u001b[1;34m(self, f, engine)\u001b[0m\n\u001b[0;32m   1216\u001b[0m             \u001b[1;31m# \"Union[str, PathLike[str], ReadCsvBuffer[bytes], ReadCsvBuffer[str]]\"\u001b[0m\u001b[1;33m\u001b[0m\u001b[1;33m\u001b[0m\u001b[0m\n\u001b[0;32m   1217\u001b[0m             \u001b[1;31m# , \"str\", \"bool\", \"Any\", \"Any\", \"Any\", \"Any\", \"Any\"\u001b[0m\u001b[1;33m\u001b[0m\u001b[1;33m\u001b[0m\u001b[0m\n\u001b[1;32m-> 1218\u001b[1;33m             self.handles = get_handle(  # type: ignore[call-overload]\n\u001b[0m\u001b[0;32m   1219\u001b[0m                 \u001b[0mf\u001b[0m\u001b[1;33m,\u001b[0m\u001b[1;33m\u001b[0m\u001b[1;33m\u001b[0m\u001b[0m\n\u001b[0;32m   1220\u001b[0m                 \u001b[0mmode\u001b[0m\u001b[1;33m,\u001b[0m\u001b[1;33m\u001b[0m\u001b[1;33m\u001b[0m\u001b[0m\n",
      "\u001b[1;32m~\\anaconda3\\lib\\site-packages\\pandas\\io\\common.py\u001b[0m in \u001b[0;36mget_handle\u001b[1;34m(path_or_buf, mode, encoding, compression, memory_map, is_text, errors, storage_options)\u001b[0m\n\u001b[0;32m    784\u001b[0m         \u001b[1;32mif\u001b[0m \u001b[0mioargs\u001b[0m\u001b[1;33m.\u001b[0m\u001b[0mencoding\u001b[0m \u001b[1;32mand\u001b[0m \u001b[1;34m\"b\"\u001b[0m \u001b[1;32mnot\u001b[0m \u001b[1;32min\u001b[0m \u001b[0mioargs\u001b[0m\u001b[1;33m.\u001b[0m\u001b[0mmode\u001b[0m\u001b[1;33m:\u001b[0m\u001b[1;33m\u001b[0m\u001b[1;33m\u001b[0m\u001b[0m\n\u001b[0;32m    785\u001b[0m             \u001b[1;31m# Encoding\u001b[0m\u001b[1;33m\u001b[0m\u001b[1;33m\u001b[0m\u001b[0m\n\u001b[1;32m--> 786\u001b[1;33m             handle = open(\n\u001b[0m\u001b[0;32m    787\u001b[0m                 \u001b[0mhandle\u001b[0m\u001b[1;33m,\u001b[0m\u001b[1;33m\u001b[0m\u001b[1;33m\u001b[0m\u001b[0m\n\u001b[0;32m    788\u001b[0m                 \u001b[0mioargs\u001b[0m\u001b[1;33m.\u001b[0m\u001b[0mmode\u001b[0m\u001b[1;33m,\u001b[0m\u001b[1;33m\u001b[0m\u001b[1;33m\u001b[0m\u001b[0m\n",
      "\u001b[1;31mFileNotFoundError\u001b[0m: [Errno 2] No such file or directory: '../input/201902-fordgobike-tripdata.csv'"
     ]
    }
   ],
   "source": [
    "df = pd.read_csv('../input/201902-fordgobike-tripdata.csv')\n",
    "df.head()"
   ]
  },
  {
   "cell_type": "code",
   "execution_count": null,
   "metadata": {
    "execution": {
     "iopub.execute_input": "2022-08-16T04:44:57.478162Z",
     "iopub.status.busy": "2022-08-16T04:44:57.477920Z",
     "iopub.status.idle": "2022-08-16T04:44:57.593423Z",
     "shell.execute_reply": "2022-08-16T04:44:57.592405Z",
     "shell.execute_reply.started": "2022-08-16T04:44:57.478125Z"
    }
   },
   "outputs": [],
   "source": [
    "df.info()"
   ]
  },
  {
   "cell_type": "code",
   "execution_count": null,
   "metadata": {
    "execution": {
     "iopub.execute_input": "2022-08-16T04:44:57.596490Z",
     "iopub.status.busy": "2022-08-16T04:44:57.595913Z",
     "iopub.status.idle": "2022-08-16T04:44:57.734593Z",
     "shell.execute_reply": "2022-08-16T04:44:57.733699Z",
     "shell.execute_reply.started": "2022-08-16T04:44:57.596272Z"
    }
   },
   "outputs": [],
   "source": [
    "#changing data type of start_time and end_time to datetime.\n",
    "df.start_time = pd.to_datetime(df.start_time)\n",
    "df.end_time = pd.to_datetime(df.end_time)"
   ]
  },
  {
   "cell_type": "code",
   "execution_count": null,
   "metadata": {
    "execution": {
     "iopub.execute_input": "2022-08-16T04:44:57.736420Z",
     "iopub.status.busy": "2022-08-16T04:44:57.736139Z",
     "iopub.status.idle": "2022-08-16T04:44:57.768361Z",
     "shell.execute_reply": "2022-08-16T04:44:57.767684Z",
     "shell.execute_reply.started": "2022-08-16T04:44:57.736366Z"
    }
   },
   "outputs": [],
   "source": [
    "df.bike_share_for_all_trip = (df.bike_share_for_all_trip == 'Yes')"
   ]
  },
  {
   "cell_type": "code",
   "execution_count": null,
   "metadata": {
    "execution": {
     "iopub.execute_input": "2022-08-16T04:44:57.770085Z",
     "iopub.status.busy": "2022-08-16T04:44:57.769792Z",
     "iopub.status.idle": "2022-08-16T04:44:57.864233Z",
     "shell.execute_reply": "2022-08-16T04:44:57.863408Z",
     "shell.execute_reply.started": "2022-08-16T04:44:57.770028Z"
    }
   },
   "outputs": [],
   "source": [
    "df.info()"
   ]
  },
  {
   "cell_type": "code",
   "execution_count": null,
   "metadata": {
    "execution": {
     "iopub.execute_input": "2022-08-16T04:44:57.865300Z",
     "iopub.status.busy": "2022-08-16T04:44:57.865083Z",
     "iopub.status.idle": "2022-08-16T04:44:58.044650Z",
     "shell.execute_reply": "2022-08-16T04:44:58.043711Z",
     "shell.execute_reply.started": "2022-08-16T04:44:57.865266Z"
    }
   },
   "outputs": [],
   "source": [
    "df.describe()"
   ]
  },
  {
   "cell_type": "markdown",
   "metadata": {},
   "source": [
    "\n",
    "### What is the structure of your dataset?\n",
    "There are 183412 fordgobike trips in the dataset with 16 specifications (duration_sec, start_time, end_time, start_station_id, start_station_name, start_station_latitude, start_station_longitude, end_station_id, end_station_name, end_station_latitude ,end_station_longitude, bike_id, user_type, member_birth_year, member_gender, bike_share_for_all_trip). Out of 16 specifications 9 are numerical, 2 are datetime, 4 are object type and 1 is boolean type.\n",
    "\n",
    "### What is/are the main feature(s) of interest in your dataset?\n",
    "I'm most interested in figuring out how trip duration is dependent on other specifications from the dataset. \n",
    "\n",
    "### What features in the dataset do you think will help support your investigation into your feature(s) of interest?\n",
    "I expect that trip duration is highly dependent on the start stations and end stations, more crowded places should receive more rides so some stations should be logging more duration sec. I also think user_type, birthyear and gender should also effect trip duration. \n"
   ]
  },
  {
   "cell_type": "markdown",
   "metadata": {},
   "source": [
    "## Univariate Exploration\n",
    "I'll start by looking at the distribution of the main variable of interest: duration_sec."
   ]
  },
  {
   "cell_type": "code",
   "execution_count": null,
   "metadata": {
    "execution": {
     "iopub.execute_input": "2022-08-16T04:44:58.046356Z",
     "iopub.status.busy": "2022-08-16T04:44:58.046121Z",
     "iopub.status.idle": "2022-08-16T04:44:58.640318Z",
     "shell.execute_reply": "2022-08-16T04:44:58.638533Z",
     "shell.execute_reply.started": "2022-08-16T04:44:58.046313Z"
    }
   },
   "outputs": [],
   "source": [
    "binsize = 500\n",
    "bins = np.arange(0, df['duration_sec'].max()+binsize, binsize)\n",
    "\n",
    "plt.figure(figsize=[8, 5])\n",
    "plt.hist(data = df, x = 'duration_sec', bins = bins)\n",
    "plt.title('Distribution of Trip Durations')\n",
    "plt.xlabel('Duration (sec)')\n",
    "plt.ylabel('Number of Trips')\n",
    "plt.axis([-500, 10000, 0, 90000])\n",
    "plt.show()"
   ]
  },
  {
   "cell_type": "markdown",
   "metadata": {},
   "source": [
    "There is a long tail in the distribution so lets put it on log scale."
   ]
  },
  {
   "cell_type": "code",
   "execution_count": null,
   "metadata": {
    "execution": {
     "iopub.execute_input": "2022-08-16T04:44:58.642533Z",
     "iopub.status.busy": "2022-08-16T04:44:58.641978Z",
     "iopub.status.idle": "2022-08-16T04:44:59.112751Z",
     "shell.execute_reply": "2022-08-16T04:44:59.111896Z",
     "shell.execute_reply.started": "2022-08-16T04:44:58.642471Z"
    }
   },
   "outputs": [],
   "source": [
    "log_binsize = 0.05\n",
    "log_bins = 10 ** np.arange(2.4, np.log10(df['duration_sec'].max()) + log_binsize, log_binsize)\n",
    "\n",
    "plt.figure(figsize=[8, 5])\n",
    "plt.hist(data = df, x = 'duration_sec', bins = log_bins)\n",
    "plt.title('Distribution of Trip Durations')\n",
    "plt.xlabel('Duration (sec)')\n",
    "plt.ylabel('Number of Trips')\n",
    "plt.xscale('log')\n",
    "plt.xticks([500, 1e3, 2e3, 5e3, 1e4], [500, '1k', '2k', '5k', '10k'])\n",
    "plt.axis([0, 10000, 0, 15000])\n",
    "plt.show()"
   ]
  },
  {
   "cell_type": "markdown",
   "metadata": {},
   "source": [
    "Trip duration is mostly concentrated on the lower spectrum. Most of the values are less than 2000 seconds with peak around 600 seconds. Trip duration values first increases starting from arount 8000 values at 0 to 12500 values at around 600 but then starts to fall and raching below 2000 values under 2000 sec."
   ]
  },
  {
   "cell_type": "markdown",
   "metadata": {},
   "source": [
    "Now lets look at other factors like start and end station id and birth year"
   ]
  },
  {
   "cell_type": "code",
   "execution_count": null,
   "metadata": {
    "execution": {
     "iopub.execute_input": "2022-08-16T04:44:59.114680Z",
     "iopub.status.busy": "2022-08-16T04:44:59.114142Z",
     "iopub.status.idle": "2022-08-16T04:45:00.669387Z",
     "shell.execute_reply": "2022-08-16T04:45:00.668680Z",
     "shell.execute_reply.started": "2022-08-16T04:44:59.114620Z"
    }
   },
   "outputs": [],
   "source": [
    "# Plotting start station id distribution.\n",
    "binsize = 1\n",
    "bins = np.arange(0, df['start_station_id'].astype(float).max()+binsize, binsize)\n",
    "\n",
    "plt.figure(figsize=[20, 8])\n",
    "plt.xticks(range(0, 401, 10))\n",
    "plt.hist(data = df.dropna(), x = 'start_station_id', bins = bins)\n",
    "plt.title('Distribution of Start Stations')\n",
    "plt.xlabel('Start Station')\n",
    "plt.ylabel('Number of Stations')\n",
    "plt.show()"
   ]
  },
  {
   "cell_type": "code",
   "execution_count": null,
   "metadata": {
    "execution": {
     "iopub.execute_input": "2022-08-16T04:45:00.671341Z",
     "iopub.status.busy": "2022-08-16T04:45:00.670739Z",
     "iopub.status.idle": "2022-08-16T04:45:02.020629Z",
     "shell.execute_reply": "2022-08-16T04:45:02.019622Z",
     "shell.execute_reply.started": "2022-08-16T04:45:00.671269Z"
    }
   },
   "outputs": [],
   "source": [
    "# Plotting end station id distribution.\n",
    "binsize = 1\n",
    "bins = np.arange(0, df['end_station_id'].astype(float).max()+binsize, binsize)\n",
    "\n",
    "plt.figure(figsize=[20, 8])\n",
    "plt.xticks(range(0, 401, 10))\n",
    "plt.hist(data = df.dropna(), x = 'end_station_id', bins = bins)\n",
    "plt.title('Distribution of End Stations')\n",
    "plt.xlabel('End Station')\n",
    "plt.ylabel('Number of Stations')\n",
    "plt.show()"
   ]
  },
  {
   "cell_type": "markdown",
   "metadata": {},
   "source": [
    "We can see that same stations are more frequent as start stations and end stations."
   ]
  },
  {
   "cell_type": "code",
   "execution_count": null,
   "metadata": {
    "execution": {
     "iopub.execute_input": "2022-08-16T04:45:02.023053Z",
     "iopub.status.busy": "2022-08-16T04:45:02.022622Z",
     "iopub.status.idle": "2022-08-16T04:45:05.922820Z",
     "shell.execute_reply": "2022-08-16T04:45:05.921847Z",
     "shell.execute_reply.started": "2022-08-16T04:45:02.022975Z"
    }
   },
   "outputs": [],
   "source": [
    "# Plotting age distribution derived from member's birth year.\n",
    "binsize = 1\n",
    "bins = np.arange(0, df['member_birth_year'].astype(float).max()+binsize, binsize)\n",
    "\n",
    "plt.figure(figsize=[8, 5])\n",
    "plt.hist(data = df.dropna(), x = 'member_birth_year', bins = bins)\n",
    "plt.axis([1939, 2009, 0, 12000])\n",
    "plt.xticks([1939, 1949, 1959, 1969, 1979, 1989, 1999, 2009], [(2019-1939), (2019-1949), (2019-1959), (2019-1969), (2019-1979), (2019-1989), (2019-1999), (2019-2009)])\n",
    "plt.gca().invert_xaxis()\n",
    "plt.title('Distribution of User Age')\n",
    "plt.xlabel('Age (years)')\n",
    "plt.ylabel('Number of Users')\n",
    "plt.show()"
   ]
  },
  {
   "cell_type": "markdown",
   "metadata": {},
   "source": [
    "We can see that the distribution is more concentrated between 20 to 40 years old."
   ]
  },
  {
   "cell_type": "code",
   "execution_count": null,
   "metadata": {
    "execution": {
     "iopub.execute_input": "2022-08-16T04:45:05.924690Z",
     "iopub.status.busy": "2022-08-16T04:45:05.924332Z",
     "iopub.status.idle": "2022-08-16T04:45:06.158305Z",
     "shell.execute_reply": "2022-08-16T04:45:06.157386Z",
     "shell.execute_reply.started": "2022-08-16T04:45:05.924633Z"
    }
   },
   "outputs": [],
   "source": [
    "# plotting types of users on bar.\n",
    "plt.figure(figsize=[8,5])\n",
    "plt.bar(x = df.user_type.value_counts().keys(), height = df.user_type.value_counts() )\n",
    "plt.xlabel('User Type')\n",
    "plt.ylabel('Number of Users')\n",
    "plt.show()"
   ]
  },
  {
   "cell_type": "code",
   "execution_count": null,
   "metadata": {
    "execution": {
     "iopub.execute_input": "2022-08-16T04:45:06.160320Z",
     "iopub.status.busy": "2022-08-16T04:45:06.159975Z",
     "iopub.status.idle": "2022-08-16T04:45:06.385114Z",
     "shell.execute_reply": "2022-08-16T04:45:06.384303Z",
     "shell.execute_reply.started": "2022-08-16T04:45:06.160257Z"
    }
   },
   "outputs": [],
   "source": [
    "# plotting genders on bar.\n",
    "plt.figure(figsize=[8,5])\n",
    "plt.bar(x = df.member_gender.value_counts().keys(), height = df.member_gender.value_counts() )\n",
    "plt.xlabel('Gender')\n",
    "plt.ylabel('Number of Users')\n",
    "plt.show()"
   ]
  },
  {
   "cell_type": "markdown",
   "metadata": {},
   "source": [
    "### Discuss the distribution(s) of your variable(s) of interest. Were there any unusual points? Did you need to perform any transformations?\n",
    "The trip duration takes a large amount of values and is concentrated to a tail so I looked at it in log transform and found that peak occurs at 600 seconds starting from 0 and then distribution starts to dip and does not regain any more peak value.\n",
    "\n",
    "### Of the features you investigated, were there any unusual distributions? Did you perform any operations on the data to tidy, adjust, or change the form of the data? If so, why did you do this?\n",
    "Birth year is converted by substracting the year from current year so this gives us a distibution for age, this action is performed as age gives a better better perception regarding trip duration dependency. Also start station and end station is plotted in a larger plot because it gives a better insight regarding traffic of bikes at certain stations.\n"
   ]
  },
  {
   "cell_type": "markdown",
   "metadata": {},
   "source": [
    "## Bivariate Exploration"
   ]
  },
  {
   "cell_type": "markdown",
   "metadata": {},
   "source": [
    "Lets first have a look at the correlation between trip duration and age."
   ]
  },
  {
   "cell_type": "code",
   "execution_count": null,
   "metadata": {
    "execution": {
     "iopub.execute_input": "2022-08-16T04:45:06.387006Z",
     "iopub.status.busy": "2022-08-16T04:45:06.386440Z",
     "iopub.status.idle": "2022-08-16T04:45:08.585160Z",
     "shell.execute_reply": "2022-08-16T04:45:08.583748Z",
     "shell.execute_reply.started": "2022-08-16T04:45:06.386944Z"
    }
   },
   "outputs": [],
   "source": [
    "plt.figure(figsize=[8,5])\n",
    "plt.scatter((2019 - df['member_birth_year']), df['duration_sec'], alpha = 0.25, marker = '.' )\n",
    "plt.axis([-5, 145, 500, 10500])\n",
    "plt.xlabel('Age (years)')\n",
    "plt.ylabel('Duaration (sec)')\n",
    "plt.show()"
   ]
  },
  {
   "cell_type": "markdown",
   "metadata": {},
   "source": [
    "As most of the durations are below 6000 and age is below 80, lets crop the plot till those values."
   ]
  },
  {
   "cell_type": "code",
   "execution_count": null,
   "metadata": {
    "execution": {
     "iopub.execute_input": "2022-08-16T04:45:08.588063Z",
     "iopub.status.busy": "2022-08-16T04:45:08.587627Z",
     "iopub.status.idle": "2022-08-16T04:45:11.313682Z",
     "shell.execute_reply": "2022-08-16T04:45:11.312260Z",
     "shell.execute_reply.started": "2022-08-16T04:45:08.587993Z"
    }
   },
   "outputs": [],
   "source": [
    "plt.figure(figsize=[12,5])\n",
    "\n",
    "plt.subplot(1, 2, 1)\n",
    "plt.scatter((2019 - df['member_birth_year']), df['duration_sec'], alpha = 0.25, marker = '.' )\n",
    "plt.axis([-5, 85, 500, 6500])\n",
    "plt.xlabel('Age (years)')\n",
    "plt.ylabel('Duaration (sec)')\n",
    "\n",
    "plt.subplot(1, 2, 2)\n",
    "bins_y = np.arange(500, 6500+1, 1000)\n",
    "bins_x = np.arange(-5, 85+1, 10)\n",
    "plt.hist2d((2019 - df['member_birth_year']), df['duration_sec'],\n",
    "           bins = [bins_x, bins_y])\n",
    "plt.colorbar(ticks=[10000, 20000, 30000, 40000]);\n",
    "plt.show()"
   ]
  },
  {
   "cell_type": "markdown",
   "metadata": {},
   "source": [
    "By looking at these olys we can say that most frequent users of bikes are aged between 20 and 45. Higher duration is clocked by younger members."
   ]
  },
  {
   "cell_type": "markdown",
   "metadata": {},
   "source": [
    "Now lets look into the duration dependency on start station and end station."
   ]
  },
  {
   "cell_type": "code",
   "execution_count": null,
   "metadata": {
    "execution": {
     "iopub.execute_input": "2022-08-16T04:45:11.316866Z",
     "iopub.status.busy": "2022-08-16T04:45:11.315962Z",
     "iopub.status.idle": "2022-08-16T04:45:11.336626Z",
     "shell.execute_reply": "2022-08-16T04:45:11.335460Z",
     "shell.execute_reply.started": "2022-08-16T04:45:11.316764Z"
    }
   },
   "outputs": [],
   "source": [
    "sorted(df.start_station_id.unique())"
   ]
  },
  {
   "cell_type": "code",
   "execution_count": null,
   "metadata": {
    "execution": {
     "iopub.execute_input": "2022-08-16T04:45:11.338978Z",
     "iopub.status.busy": "2022-08-16T04:45:11.338416Z",
     "iopub.status.idle": "2022-08-16T04:45:11.911609Z",
     "shell.execute_reply": "2022-08-16T04:45:11.910506Z",
     "shell.execute_reply.started": "2022-08-16T04:45:11.338767Z"
    }
   },
   "outputs": [],
   "source": [
    "t = []\n",
    "\n",
    "all_start_station_ids = sorted(df.start_station_id.unique())\n",
    "for x in all_start_station_ids :\n",
    "    t.append(df[df.start_station_id == x].duration_sec.sum()) \n",
    "total_duration = pd.Series(t)"
   ]
  },
  {
   "cell_type": "code",
   "execution_count": null,
   "metadata": {
    "execution": {
     "iopub.execute_input": "2022-08-16T04:45:11.913342Z",
     "iopub.status.busy": "2022-08-16T04:45:11.913054Z",
     "iopub.status.idle": "2022-08-16T04:45:13.680960Z",
     "shell.execute_reply": "2022-08-16T04:45:13.680155Z",
     "shell.execute_reply.started": "2022-08-16T04:45:11.913286Z"
    }
   },
   "outputs": [],
   "source": [
    "plt.figure(figsize = [20, 8])\n",
    "sb.lineplot(x = df['start_station_id'], y = total_duration)\n",
    "plt.xticks(range(0, 401, 10))\n",
    "plt.xlabel('Start Station')\n",
    "plt.ylabel('Total Duration')\n",
    "plt.show()"
   ]
  },
  {
   "cell_type": "code",
   "execution_count": null,
   "metadata": {
    "execution": {
     "iopub.execute_input": "2022-08-16T04:45:13.682647Z",
     "iopub.status.busy": "2022-08-16T04:45:13.682328Z",
     "iopub.status.idle": "2022-08-16T04:45:14.248216Z",
     "shell.execute_reply": "2022-08-16T04:45:14.247383Z",
     "shell.execute_reply.started": "2022-08-16T04:45:13.682582Z"
    }
   },
   "outputs": [],
   "source": [
    "t = []\n",
    "\n",
    "all_end_station_ids = sorted(df.end_station_id.unique())\n",
    "for x in all_end_station_ids :\n",
    "    t.append(df[df.end_station_id == x].duration_sec.sum()) \n",
    "total_duration = pd.Series(t)"
   ]
  },
  {
   "cell_type": "code",
   "execution_count": null,
   "metadata": {
    "execution": {
     "iopub.execute_input": "2022-08-16T04:45:14.250644Z",
     "iopub.status.busy": "2022-08-16T04:45:14.250145Z",
     "iopub.status.idle": "2022-08-16T04:45:16.046148Z",
     "shell.execute_reply": "2022-08-16T04:45:16.045030Z",
     "shell.execute_reply.started": "2022-08-16T04:45:14.250503Z"
    }
   },
   "outputs": [],
   "source": [
    "plt.figure(figsize = [20, 8])\n",
    "sb.lineplot(x = df['start_station_id'], y = total_duration)\n",
    "plt.xticks(range(0, 401, 10))\n",
    "plt.xlabel('End Station')\n",
    "plt.ylabel('Total Duration')\n",
    "plt.show()"
   ]
  },
  {
   "cell_type": "markdown",
   "metadata": {},
   "source": [
    "By looking at these plots you can see that trip duration for some station as start station is higher and for some stations as end station is higher. By this we can see that what stations result in starting of longer trips and what stations comes end of longer trips."
   ]
  },
  {
   "cell_type": "markdown",
   "metadata": {},
   "source": [
    "Now lets look into the dependency of trip durations on gender and on member type."
   ]
  },
  {
   "cell_type": "code",
   "execution_count": null,
   "metadata": {
    "execution": {
     "iopub.execute_input": "2022-08-16T04:45:16.047999Z",
     "iopub.status.busy": "2022-08-16T04:45:16.047621Z",
     "iopub.status.idle": "2022-08-16T04:45:16.452966Z",
     "shell.execute_reply": "2022-08-16T04:45:16.451976Z",
     "shell.execute_reply.started": "2022-08-16T04:45:16.047918Z"
    }
   },
   "outputs": [],
   "source": [
    "plt.figure(figsize = [8, 5])\n",
    "base_color = sb.color_palette()[1]\n",
    "sb.boxplot(data = df, x = 'member_gender', y = 'duration_sec', color = base_color)\n",
    "plt.xlabel('Gender')\n",
    "plt.ylabel('Duration (sec)')\n",
    "plt.show()"
   ]
  },
  {
   "cell_type": "markdown",
   "metadata": {},
   "source": [
    "As we can see, values are vey widespread to see a box plot, so lets trim duration to max 2000 sec to get clearer picture."
   ]
  },
  {
   "cell_type": "code",
   "execution_count": null,
   "metadata": {
    "execution": {
     "iopub.execute_input": "2022-08-16T04:45:16.454821Z",
     "iopub.status.busy": "2022-08-16T04:45:16.454439Z",
     "iopub.status.idle": "2022-08-16T04:45:16.849029Z",
     "shell.execute_reply": "2022-08-16T04:45:16.847730Z",
     "shell.execute_reply.started": "2022-08-16T04:45:16.454739Z"
    }
   },
   "outputs": [],
   "source": [
    "plt.figure(figsize = [8, 5])\n",
    "base_color = sb.color_palette()[1]\n",
    "sb.boxplot(data = df, x = 'member_gender', y = 'duration_sec', color = base_color)\n",
    "plt.ylim([-10, 2000])\n",
    "plt.xlabel('Gender')\n",
    "plt.ylabel('Duration (sec)')\n",
    "plt.show()"
   ]
  },
  {
   "cell_type": "markdown",
   "metadata": {},
   "source": [
    "Though quantity of male riders are very high then other and female but we can see that higher percentage of female and other rides longer trips then males."
   ]
  },
  {
   "cell_type": "code",
   "execution_count": null,
   "metadata": {
    "execution": {
     "iopub.execute_input": "2022-08-16T04:45:16.851075Z",
     "iopub.status.busy": "2022-08-16T04:45:16.850620Z",
     "iopub.status.idle": "2022-08-16T04:45:17.216359Z",
     "shell.execute_reply": "2022-08-16T04:45:17.215525Z",
     "shell.execute_reply.started": "2022-08-16T04:45:16.850996Z"
    }
   },
   "outputs": [],
   "source": [
    "plt.figure(figsize = [8, 5])\n",
    "base_color = sb.color_palette()[1]\n",
    "sb.boxplot(data = df, x = 'user_type', y = 'duration_sec', color = base_color)\n",
    "plt.xlabel('User Type')\n",
    "plt.ylabel('Duration (sec)')\n",
    "plt.show()"
   ]
  },
  {
   "cell_type": "markdown",
   "metadata": {},
   "source": [
    "As we can see, values are vey widespread to see a box plot, so lets trim duration to max 2500 sec to get clearer picture."
   ]
  },
  {
   "cell_type": "code",
   "execution_count": null,
   "metadata": {
    "execution": {
     "iopub.execute_input": "2022-08-16T04:45:17.218130Z",
     "iopub.status.busy": "2022-08-16T04:45:17.217661Z",
     "iopub.status.idle": "2022-08-16T04:45:17.570920Z",
     "shell.execute_reply": "2022-08-16T04:45:17.569621Z",
     "shell.execute_reply.started": "2022-08-16T04:45:17.218083Z"
    }
   },
   "outputs": [],
   "source": [
    "plt.figure(figsize = [8, 5])\n",
    "base_color = sb.color_palette()[1]\n",
    "sb.boxplot(data = df, x = 'user_type', y = 'duration_sec', color = base_color)\n",
    "plt.ylim([-10, 2500])\n",
    "plt.xlabel('User Type')\n",
    "plt.ylabel('Duration (sec)')\n",
    "plt.show()"
   ]
  },
  {
   "cell_type": "markdown",
   "metadata": {},
   "source": [
    "Here we can see that higher percentage of customers are taking longer trips then compared to subscribers."
   ]
  },
  {
   "cell_type": "markdown",
   "metadata": {},
   "source": [
    "### Talk about some of the relationships you observed in this part of the investigation. How did the feature(s) of interest vary with other features in the dataset?\n",
    "Trip Duration is very dependendable on the age of the member, I havent expected the=at much dependency. On the other hand Start station and end station does not much determine the trip duration. It only suggests that some starting stations are having higher trip durations as starting point and some end stations are having higher trip durations as ending point.\n",
    "\n",
    "### Did you observe any interesting relationships between the other features (not the main feature(s) of interest)?\n",
    "I have expected that categorial variable's like user type and gender values having higher value to be having higher trip duration but it is the other way round like for gender, value of male members is very high but the percentage of female members to take longer trips is higher."
   ]
  },
  {
   "cell_type": "markdown",
   "metadata": {},
   "source": [
    "## Multivariate Exploration\n",
    "\n",
    "The main thing I want to explore in this part of the analysis is how the two categorical measures gender and user type play into the relationship between trip duration and age."
   ]
  },
  {
   "cell_type": "code",
   "execution_count": null,
   "metadata": {
    "execution": {
     "iopub.execute_input": "2022-08-16T04:45:17.573895Z",
     "iopub.status.busy": "2022-08-16T04:45:17.573058Z",
     "iopub.status.idle": "2022-08-16T04:45:25.190360Z",
     "shell.execute_reply": "2022-08-16T04:45:25.189713Z",
     "shell.execute_reply.started": "2022-08-16T04:45:17.573796Z"
    }
   },
   "outputs": [],
   "source": [
    "gender_markers = [['Male', 's'],['Female', 'o'],['Other', 'v']]\n",
    "\n",
    "for gender, marker in gender_markers:\n",
    "    df_gender = df[df['member_gender'] == gender]\n",
    "    plt.scatter((2019 - df_gender['member_birth_year']), df_gender['duration_sec'], marker = marker, alpha=0.25)\n",
    "plt.legend(['Male','Female','Other'])\n",
    "plt.axis([10, 80, -500, 9000 ])\n",
    "plt.xlabel('Age (year)')\n",
    "plt.ylabel('Duration (sec)')\n",
    "plt.show()"
   ]
  },
  {
   "cell_type": "markdown",
   "metadata": {},
   "source": [
    "This plot does not show quit a clear picture, lets seperate all three genders into different graphs."
   ]
  },
  {
   "cell_type": "code",
   "execution_count": null,
   "metadata": {
    "execution": {
     "iopub.execute_input": "2022-08-16T04:45:25.191821Z",
     "iopub.status.busy": "2022-08-16T04:45:25.191396Z",
     "iopub.status.idle": "2022-08-16T04:45:30.651915Z",
     "shell.execute_reply": "2022-08-16T04:45:30.650963Z",
     "shell.execute_reply.started": "2022-08-16T04:45:25.191778Z"
    }
   },
   "outputs": [],
   "source": [
    "df['age'] = (2019 - df['member_birth_year'])\n",
    "genders = sb.FacetGrid(data = df, col = 'member_gender', col_wrap = 2, size = 5,\n",
    "                 xlim = [10, 80], ylim = [-500, 9000])\n",
    "genders.map(plt.scatter, 'age', 'duration_sec', alpha=0.25)\n",
    "genders.set_xlabels('Age (year)')\n",
    "genders.set_ylabels('Duration (sec)')\n",
    "\n",
    "plt.show()"
   ]
  },
  {
   "cell_type": "markdown",
   "metadata": {},
   "source": [
    "Here we are seeing a jump in duration for others at an older age (around 60 years). "
   ]
  },
  {
   "cell_type": "code",
   "execution_count": null,
   "metadata": {
    "execution": {
     "iopub.execute_input": "2022-08-16T04:45:30.653298Z",
     "iopub.status.busy": "2022-08-16T04:45:30.653047Z",
     "iopub.status.idle": "2022-08-16T04:45:38.519168Z",
     "shell.execute_reply": "2022-08-16T04:45:38.518346Z",
     "shell.execute_reply.started": "2022-08-16T04:45:30.653254Z"
    }
   },
   "outputs": [],
   "source": [
    "user_type_markers = [['Customer', 's'],['Subscriber', 'o']]\n",
    "\n",
    "for utype, marker in user_type_markers:\n",
    "    df_utype = df[df['user_type'] == utype]\n",
    "    plt.scatter((2019 - df_utype['member_birth_year']), df_utype['duration_sec'], marker = marker, alpha=0.25)\n",
    "plt.legend(['Customer','Subscriber'])\n",
    "plt.axis([10, 80, -500, 9000 ])\n",
    "plt.xlabel('Age (year)')\n",
    "plt.ylabel('Duration (sec)')\n",
    "plt.show()"
   ]
  },
  {
   "cell_type": "code",
   "execution_count": null,
   "metadata": {
    "execution": {
     "iopub.execute_input": "2022-08-16T04:45:38.520789Z",
     "iopub.status.busy": "2022-08-16T04:45:38.520488Z",
     "iopub.status.idle": "2022-08-16T04:45:43.585988Z",
     "shell.execute_reply": "2022-08-16T04:45:43.585092Z",
     "shell.execute_reply.started": "2022-08-16T04:45:38.520712Z"
    }
   },
   "outputs": [],
   "source": [
    "user_types = sb.FacetGrid(data = df, col = 'user_type', col_wrap = 2, size = 5,\n",
    "                 xlim = [10, 80], ylim = [-500, 9000])\n",
    "user_types.map(plt.scatter, 'age', 'duration_sec', alpha=0.25)\n",
    "user_types.set_xlabels('Age (year)')\n",
    "user_types.set_ylabels('Duration (sec)')\n",
    "\n",
    "plt.show()"
   ]
  },
  {
   "cell_type": "markdown",
   "metadata": {},
   "source": [
    "In this case both Customer and Subscriber are showing similer trends for age and trip duration. But there is slight tilt to higher age for subscribers. "
   ]
  },
  {
   "cell_type": "markdown",
   "metadata": {},
   "source": [
    "### Talk about some of the relationships you observed in this part of the investigation. Were there features that strengthened each other in terms of looking at your feature(s) of interest?\n",
    "Here we observed that though the number of higher duration trip is higher for male but percentage is higher for women and other, also other has one more peak at nearly the age of 60 years for higher duration time.\n",
    "For different user types both are showing similer trends for age and trip duration. But there is slight tilt to higher age for subscribers having better trip duration.\n",
    "\n",
    "### Were there any interesting or surprising interactions between features?\n",
    "A second peak for other gender at an older is a surprise."
   ]
  },
  {
   "cell_type": "code",
   "execution_count": null,
   "metadata": {},
   "outputs": [],
   "source": []
  }
 ],
 "metadata": {
  "kernelspec": {
   "display_name": "Python 3 (ipykernel)",
   "language": "python",
   "name": "python3"
  },
  "language_info": {
   "codemirror_mode": {
    "name": "ipython",
    "version": 3
   },
   "file_extension": ".py",
   "mimetype": "text/x-python",
   "name": "python",
   "nbconvert_exporter": "python",
   "pygments_lexer": "ipython3",
   "version": "3.9.12"
  }
 },
 "nbformat": 4,
 "nbformat_minor": 4
}
